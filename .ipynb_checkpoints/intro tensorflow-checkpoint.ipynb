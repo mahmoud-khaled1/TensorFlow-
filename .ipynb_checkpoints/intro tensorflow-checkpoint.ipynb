{
 "cells": [
  {
   "cell_type": "code",
   "execution_count": 174,
   "id": "black-glenn",
   "metadata": {},
   "outputs": [],
   "source": [
    "import tensorflow.compat.v1 as tf\n"
   ]
  },
  {
   "cell_type": "markdown",
   "id": "seasonal-explanation",
   "metadata": {},
   "source": [
    "# Session in TensorFlow \n",
    "A session allows to execute graphs or part of graphs. It allocates resources (on one or more machines) \n",
    "for that and holds the actual values of intermediate results and variables."
   ]
  },
  {
   "cell_type": "code",
   "execution_count": 135,
   "id": "adaptive-madagascar",
   "metadata": {},
   "outputs": [],
   "source": [
    "tf.disable_eager_execution() # for used tf correctly \n",
    "sess=tf.Session()\n",
    "#print(sess.run())\n"
   ]
  },
  {
   "cell_type": "markdown",
   "id": "sophisticated-electronics",
   "metadata": {},
   "source": [
    "# Constant in TensorFlow\n",
    "when you declare some constant, its value can't be changed in the future (also the initialization should be with a value, not with operation)."
   ]
  },
  {
   "cell_type": "code",
   "execution_count": 136,
   "id": "unlikely-savage",
   "metadata": {},
   "outputs": [
    {
     "name": "stdout",
     "output_type": "stream",
     "text": [
      "5\n",
      "Tensor(\"Const_40:0\", shape=(), dtype=int32)\n",
      "b'mahmoud khaled'\n",
      "9.0\n",
      "[  1   2 892   5]\n"
     ]
    }
   ],
   "source": [
    "b=tf.constant(5)\n",
    "print(sess.run(b))\n",
    "print(b)\n",
    "#------------------------\n",
    "name=tf.constant('mahmoud khaled')\n",
    "print(sess.run(name))\n",
    "#------------------------\n",
    "a=tf.constant(9,tf.float32)\n",
    "print(sess.run(a))\n",
    "#------------------------\n",
    "mat=tf.constant([1,2,892,5])\n",
    "print(sess.run(mat))\n",
    "#-----------------------"
   ]
  },
  {
   "cell_type": "markdown",
   "id": "equivalent-consideration",
   "metadata": {},
   "source": [
    "# Variables in TensorFlow\n",
    "when you declare a Variable, you can change its value in the future with tf.assign() method (and the initialization can be achieved with a value or operation)."
   ]
  },
  {
   "cell_type": "code",
   "execution_count": 137,
   "id": "herbal-alexandria",
   "metadata": {},
   "outputs": [
    {
     "name": "stdout",
     "output_type": "stream",
     "text": [
      "original price is :  20\n",
      "after change price is :  123\n",
      "after change2 price is :  999\n"
     ]
    }
   ],
   "source": [
    "price = tf.Variable(20) \n",
    "sess.run(tf.global_variables_initializer()) # use after declare  variable to work corectly.\n",
    "print('original price is : ',sess.run(price))\n",
    "# we can change variable with two way \n",
    "#first one we can declare variable with same name \n",
    "price = tf.Variable(123) \n",
    "sess.run(tf.global_variables_initializer()) # use after declare  variable to work corectly.\n",
    "print('after change price is : ',sess.run(price))    \n",
    "#second one with assign method \n",
    "newprice=tf.assign(price,999)\n",
    "sess.run(tf.global_variables_initializer()) # use after declare every variable to work corectly.\n",
    "print('after change2 price is : ',sess.run(newprice))    "
   ]
  },
  {
   "cell_type": "code",
   "execution_count": 143,
   "id": "exterior-address",
   "metadata": {},
   "outputs": [
    {
     "name": "stdout",
     "output_type": "stream",
     "text": [
      "i =  0\n",
      "i =  1\n",
      "i =  2\n",
      "i =  3\n",
      "i =  4\n",
      "i =  5\n",
      "i =  6\n",
      "i =  7\n",
      "i =  8\n",
      "i =  9\n"
     ]
    }
   ],
   "source": [
    "ii=tf.Variable(0)\n",
    "sess.run(tf.global_variables_initializer())\n",
    "for i in range(10):\n",
    "    ii=tf.assign(ii,ii+1)\n",
    "    sess.run(tf.global_variables_initializer())\n",
    "    print(\"i = \",i)\n",
    "    \n",
    "\n"
   ]
  },
  {
   "cell_type": "markdown",
   "id": "physical-installation",
   "metadata": {},
   "source": [
    "# Placeholder in TensorFlow\n",
    ". A placeholder is simply a variable that we will assign data to at a later date. It allows us to create our operations and build our computation graph, without needing the data\n"
   ]
  },
  {
   "cell_type": "code",
   "execution_count": 145,
   "id": "lyric-master",
   "metadata": {},
   "outputs": [
    {
     "name": "stdout",
     "output_type": "stream",
     "text": [
      "[2. 4. 6.]\n"
     ]
    }
   ],
   "source": [
    "x = tf.placeholder(tf.float32)\n",
    "y = x * 2\n",
    "with tf.Session() as session:\n",
    "    result = session.run(y, feed_dict={x: [1, 2, 3]})\n",
    "    print(result)"
   ]
  },
  {
   "cell_type": "code",
   "execution_count": 146,
   "id": "terminal-poultry",
   "metadata": {},
   "outputs": [
    {
     "name": "stdout",
     "output_type": "stream",
     "text": [
      "770.5\n"
     ]
    }
   ],
   "source": [
    "\n",
    "x = tf.placeholder(tf.float32)\n",
    "y = tf.placeholder(tf.float32)\n",
    "z = tf.constant(8,tf.float32)\n",
    "w = tf.constant(6,tf.float32)\n",
    "\n",
    "b = x*2 + 3*y**4 - 4/z + w-9\n",
    "\n",
    "with tf.Session() as sess :\n",
    "    result = sess.run(b , feed_dict ={x:3.0,y:4.0})\n",
    "    print(result)"
   ]
  },
  {
   "cell_type": "code",
   "execution_count": 148,
   "id": "major-hampshire",
   "metadata": {},
   "outputs": [
    {
     "name": "stdout",
     "output_type": "stream",
     "text": [
      "[22. 32. 42. 52.]\n"
     ]
    }
   ],
   "source": [
    "w = tf.constant([5.0])\n",
    "b = tf.Variable([7.0],tf.float32)\n",
    "\n",
    "x = tf.placeholder(tf.float32)\n",
    "\n",
    "LinearRegressionModel = w*x + b\n",
    "\n",
    "with tf.Session() as sess :\n",
    "    sess.run(tf.global_variables_initializer())\n",
    "    print(sess.run(LinearRegressionModel,{x:[3,5,7,9]}))"
   ]
  },
  {
   "cell_type": "markdown",
   "id": "vital-segment",
   "metadata": {},
   "source": [
    "# Operation in TensorFlow"
   ]
  },
  {
   "cell_type": "code",
   "execution_count": 163,
   "id": "abstract-setting",
   "metadata": {},
   "outputs": [
    {
     "name": "stdout",
     "output_type": "stream",
     "text": [
      "b'Hi Mahmoud'\n",
      "50\n",
      "600\n",
      "-10\n",
      "0.6666666666666666\n",
      "8\n",
      "[ 6  8 10 12]\n",
      "[[16.]]\n",
      "[[5.]\n",
      " [3.]]\n"
     ]
    }
   ],
   "source": [
    "s1=tf.constant('Hi ')\n",
    "s2=tf.constant('Mahmoud')\n",
    "s3=tf.add(s1,s2)\n",
    "sess=tf.Session()\n",
    "print(sess.run(s3))\n",
    "#-----------------------------\n",
    "s1 = tf.constant(20)\n",
    "s2 = tf.constant(30)\n",
    "s3 = tf.add(s1,s2)\n",
    "sess = tf.Session()\n",
    "print(sess.run(s3))\n",
    "#----------------------------\n",
    "s1 = tf.constant(20)\n",
    "s2 = tf.constant(30)\n",
    "s3 = tf.multiply(s1,s2)\n",
    "sess = tf.Session()\n",
    "print(sess.run(s3))\n",
    "#-----------------------------\n",
    "s1 = tf.constant(20)\n",
    "s2 = tf.constant(30)\n",
    "s3 = tf.subtract(s1,s2)\n",
    "sess = tf.Session()\n",
    "print(sess.run(s3))\n",
    "#-----------------------------\n",
    "s1 = tf.constant(20)\n",
    "s2 = tf.constant(30)\n",
    "s3 = tf.divide(s1,s2)\n",
    "sess = tf.Session()\n",
    "print(sess.run(s3))\n",
    "#----------------------------\n",
    "s1 = tf.constant(2)\n",
    "s2 = tf.constant(3)\n",
    "s3 = tf.pow(s1,s2)\n",
    "sess = tf.Session()\n",
    "print(sess.run(s3))\n",
    "#--------------------------\n",
    "s1 = tf.constant([5,6,7,8])\n",
    "s2 = tf.constant([1,2,3,4])\n",
    "s3 = tf.add(s1,s2)\n",
    "sess = tf.Session()\n",
    "print(sess.run(s3))\n",
    "#--------------------------\n",
    "matrix1 = tf.constant([[5., 3.]])\n",
    "matrix2 = tf.constant([[2.],\n",
    "                   [2.]])\n",
    "product = tf.matmul(matrix1, matrix2)\n",
    "with tf.Session() as sess:\n",
    "    result = sess.run(product)\n",
    "    print (result)\n",
    "#----------------------------\n",
    "matrix2 = tf.matrix_transpose(matrix1)\n",
    "with tf.Session() as sess:\n",
    "    result = sess.run(matrix2)\n",
    "    print (result)"
   ]
  },
  {
   "cell_type": "markdown",
   "id": "unknown-president",
   "metadata": {},
   "source": [
    "# Graph in TensorFlow\n",
    "Graphs are used by tf.functions to represent the function's computations. Each graph contains a set of tf.Operation objects, which represent units of computation; and tf.Tensor objects, which represent the units of data that flow between operations."
   ]
  },
  {
   "cell_type": "code",
   "execution_count": 166,
   "id": "balanced-cuisine",
   "metadata": {},
   "outputs": [],
   "source": [
    "graph=tf.get_default_graph() # Just declare it once in program .\n",
    "#graph.get_operations() # Print all operation that graph holding \n"
   ]
  },
  {
   "cell_type": "markdown",
   "id": "proof-present",
   "metadata": {},
   "source": [
    "# Eager Execution\n",
    "if we enable Eager Execution we can do any operation without Session !"
   ]
  },
  {
   "cell_type": "code",
   "execution_count": null,
   "id": "portuguese-people",
   "metadata": {},
   "outputs": [],
   "source": [
    "tf.enable_eager_execution() # Just declare it once in program ."
   ]
  },
  {
   "cell_type": "code",
   "execution_count": null,
   "id": "amended-health",
   "metadata": {},
   "outputs": [],
   "source": [
    "print(tf.add(1, 2))\n",
    "print(tf.add([1, 2], [3, 4]))\n",
    "print(tf.square(5))\n",
    "print(tf.reduce_sum([1, 2, 3]))\n",
    "print(tf.encode_base64(\"hello world\"))\n",
    "\n",
    "print(tf.square(2) + tf.square(3))"
   ]
  }
 ],
 "metadata": {
  "kernelspec": {
   "display_name": "Python 3",
   "language": "python",
   "name": "python3"
  },
  "language_info": {
   "codemirror_mode": {
    "name": "ipython",
    "version": 3
   },
   "file_extension": ".py",
   "mimetype": "text/x-python",
   "name": "python",
   "nbconvert_exporter": "python",
   "pygments_lexer": "ipython3",
   "version": "3.8.1"
  }
 },
 "nbformat": 4,
 "nbformat_minor": 5
}
