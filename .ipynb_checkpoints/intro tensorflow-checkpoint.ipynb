{
 "cells": [
  {
   "cell_type": "code",
   "execution_count": 130,
   "id": "golden-saskatchewan",
   "metadata": {},
   "outputs": [],
   "source": [
    "import tensorflow.compat.v1 as tf"
   ]
  },
  {
   "cell_type": "markdown",
   "id": "infectious-patch",
   "metadata": {},
   "source": [
    "# Session in TensorFlow \n",
    "A session allows to execute graphs or part of graphs. It allocates resources (on one or more machines) \n",
    "for that and holds the actual values of intermediate results and variables."
   ]
  },
  {
   "cell_type": "code",
   "execution_count": 135,
   "id": "written-black",
   "metadata": {},
   "outputs": [],
   "source": [
    "tf.disable_eager_execution() # for used tf correctly \n",
    "sess=tf.Session()\n",
    "#print(sess.run())\n"
   ]
  },
  {
   "cell_type": "markdown",
   "id": "dietary-projection",
   "metadata": {},
   "source": [
    "# Constant in TensorFlow\n",
    "when you declare some constant, its value can't be changed in the future (also the initialization should be with a value, not with operation)."
   ]
  },
  {
   "cell_type": "code",
   "execution_count": 136,
   "id": "several-thesis",
   "metadata": {},
   "outputs": [
    {
     "name": "stdout",
     "output_type": "stream",
     "text": [
      "5\n",
      "Tensor(\"Const_40:0\", shape=(), dtype=int32)\n",
      "b'mahmoud khaled'\n",
      "9.0\n",
      "[  1   2 892   5]\n"
     ]
    }
   ],
   "source": [
    "b=tf.constant(5)\n",
    "print(sess.run(b))\n",
    "print(b)\n",
    "#------------------------\n",
    "name=tf.constant('mahmoud khaled')\n",
    "print(sess.run(name))\n",
    "#------------------------\n",
    "a=tf.constant(9,tf.float32)\n",
    "print(sess.run(a))\n",
    "#------------------------\n",
    "mat=tf.constant([1,2,892,5])\n",
    "print(sess.run(mat))\n",
    "#-----------------------"
   ]
  },
  {
   "cell_type": "markdown",
   "id": "everyday-lender",
   "metadata": {},
   "source": [
    "# Variables in TensorFlow\n",
    "when you declare a Variable, you can change its value in the future with tf.assign() method (and the initialization can be achieved with a value or operation)."
   ]
  },
  {
   "cell_type": "code",
   "execution_count": 137,
   "id": "automated-election",
   "metadata": {},
   "outputs": [
    {
     "name": "stdout",
     "output_type": "stream",
     "text": [
      "original price is :  20\n",
      "after change price is :  123\n",
      "after change2 price is :  999\n"
     ]
    }
   ],
   "source": [
    "price = tf.Variable(20) \n",
    "sess.run(tf.global_variables_initializer()) # use after declare  variable to work corectly.\n",
    "print('original price is : ',sess.run(price))\n",
    "# we can change variable with two way \n",
    "#first one we can declare variable with same name \n",
    "price = tf.Variable(123) \n",
    "sess.run(tf.global_variables_initializer()) # use after declare  variable to work corectly.\n",
    "print('after change price is : ',sess.run(price))    \n",
    "#second one with assign method \n",
    "newprice=tf.assign(price,999)\n",
    "sess.run(tf.global_variables_initializer()) # use after declare every variable to work corectly.\n",
    "print('after change2 price is : ',sess.run(newprice))    "
   ]
  },
  {
   "cell_type": "code",
   "execution_count": 143,
   "id": "rational-ideal",
   "metadata": {},
   "outputs": [
    {
     "name": "stdout",
     "output_type": "stream",
     "text": [
      "i =  0\n",
      "i =  1\n",
      "i =  2\n",
      "i =  3\n",
      "i =  4\n",
      "i =  5\n",
      "i =  6\n",
      "i =  7\n",
      "i =  8\n",
      "i =  9\n"
     ]
    }
   ],
   "source": [
    "ii=tf.Variable(0)\n",
    "sess.run(tf.global_variables_initializer())\n",
    "for i in range(10):\n",
    "    ii=tf.assign(ii,ii+1)\n",
    "    sess.run(tf.global_variables_initializer())\n",
    "    print(\"i = \",i)\n",
    "    \n",
    "\n"
   ]
  },
  {
   "cell_type": "markdown",
   "id": "atomic-flower",
   "metadata": {},
   "source": [
    "# Placeholder in TensorFlow\n",
    ". A placeholder is simply a variable that we will assign data to at a later date. It allows us to create our operations and build our computation graph, without needing the data\n"
   ]
  },
  {
   "cell_type": "code",
   "execution_count": 145,
   "id": "hundred-budget",
   "metadata": {},
   "outputs": [
    {
     "name": "stdout",
     "output_type": "stream",
     "text": [
      "[2. 4. 6.]\n"
     ]
    }
   ],
   "source": [
    "x = tf.placeholder(tf.float32)\n",
    "y = x * 2\n",
    "with tf.Session() as session:\n",
    "    result = session.run(y, feed_dict={x: [1, 2, 3]})\n",
    "    print(result)"
   ]
  },
  {
   "cell_type": "code",
   "execution_count": 146,
   "id": "elegant-needle",
   "metadata": {},
   "outputs": [
    {
     "name": "stdout",
     "output_type": "stream",
     "text": [
      "770.5\n"
     ]
    }
   ],
   "source": [
    "\n",
    "x = tf.placeholder(tf.float32)\n",
    "y = tf.placeholder(tf.float32)\n",
    "z = tf.constant(8,tf.float32)\n",
    "w = tf.constant(6,tf.float32)\n",
    "\n",
    "b = x*2 + 3*y**4 - 4/z + w-9\n",
    "\n",
    "with tf.Session() as sess :\n",
    "    result = sess.run(b , feed_dict ={x:3.0,y:4.0})\n",
    "    print(result)"
   ]
  },
  {
   "cell_type": "code",
   "execution_count": null,
   "id": "supreme-sewing",
   "metadata": {},
   "outputs": [],
   "source": []
  }
 ],
 "metadata": {
  "kernelspec": {
   "display_name": "Python 3",
   "language": "python",
   "name": "python3"
  },
  "language_info": {
   "codemirror_mode": {
    "name": "ipython",
    "version": 3
   },
   "file_extension": ".py",
   "mimetype": "text/x-python",
   "name": "python",
   "nbconvert_exporter": "python",
   "pygments_lexer": "ipython3",
   "version": "3.8.1"
  }
 },
 "nbformat": 4,
 "nbformat_minor": 5
}
