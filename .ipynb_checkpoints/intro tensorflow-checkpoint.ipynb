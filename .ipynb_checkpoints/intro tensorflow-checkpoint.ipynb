{
 "cells": [
  {
   "cell_type": "code",
   "execution_count": 130,
   "id": "oriented-scope",
   "metadata": {},
   "outputs": [],
   "source": [
    "import tensorflow.compat.v1 as tf"
   ]
  },
  {
   "cell_type": "markdown",
   "id": "abandoned-summit",
   "metadata": {},
   "source": [
    "# Session in TensorFlow \n",
    "A session allows to execute graphs or part of graphs. It allocates resources (on one or more machines) \n",
    "for that and holds the actual values of intermediate results and variables."
   ]
  },
  {
   "cell_type": "code",
   "execution_count": 132,
   "id": "boring-narrative",
   "metadata": {},
   "outputs": [],
   "source": [
    "tf.disable_eager_execution() # for used tf correctly \n",
    "sess=tf.compat.v1.Session()\n",
    "#print(sess.run())\n"
   ]
  },
  {
   "cell_type": "markdown",
   "id": "strategic-federation",
   "metadata": {},
   "source": [
    "# Constant in TensorFlow\n",
    "when you declare some constant, its value can't be changed in the future (also the initialization should be with a value, not with operation)."
   ]
  },
  {
   "cell_type": "code",
   "execution_count": 133,
   "id": "presidential-intersection",
   "metadata": {},
   "outputs": [
    {
     "name": "stdout",
     "output_type": "stream",
     "text": [
      "5\n",
      "Tensor(\"Const_35:0\", shape=(), dtype=int32)\n",
      "b'mahmoud khaled'\n",
      "9.0\n",
      "[  1   2 892   5]\n"
     ]
    }
   ],
   "source": [
    "b=tf.constant(5)\n",
    "print(sess.run(b))\n",
    "print(b)\n",
    "#------------------------\n",
    "name=tf.constant('mahmoud khaled')\n",
    "print(sess.run(name))\n",
    "#------------------------\n",
    "a=tf.constant(9,tf.float32)\n",
    "print(sess.run(a))\n",
    "#------------------------\n",
    "mat=tf.constant([1,2,892,5])\n",
    "print(sess.run(mat))\n",
    "#-----------------------"
   ]
  },
  {
   "cell_type": "markdown",
   "id": "seven-wages",
   "metadata": {},
   "source": [
    "# Variables in TensorFlow\n",
    "when you declare a Variable, you can change its value in the future with tf.assign() method (and the initialization can be achieved with a value or operation)."
   ]
  },
  {
   "cell_type": "code",
   "execution_count": 134,
   "id": "meaningful-church",
   "metadata": {},
   "outputs": [
    {
     "name": "stdout",
     "output_type": "stream",
     "text": [
      "original price is :  20\n",
      "after change price is :  123\n",
      "after change2 price is :  999\n"
     ]
    }
   ],
   "source": [
    "price = tf.Variable(20) \n",
    "sess.run(tf.global_variables_initializer()) # use after declare  variable to work corectly.\n",
    "print('original price is : ',sess.run(price))\n",
    "# we can change variable with two way \n",
    "#first one we can declare variable with same name \n",
    "price = tf.Variable(123) \n",
    "sess.run(tf.global_variables_initializer()) # use after declare  variable to work corectly.\n",
    "print('after change price is : ',sess.run(price))    \n",
    "#second one with assign method \n",
    "newprice=tf.assign(price,999)\n",
    "sess.run(tf.global_variables_initializer()) # use after declare every variable to work corectly.\n",
    "print('after change2 price is : ',sess.run(newprice))    "
   ]
  },
  {
   "cell_type": "code",
   "execution_count": null,
   "id": "dated-fancy",
   "metadata": {},
   "outputs": [],
   "source": [
    "\n",
    "    \n",
    "\n"
   ]
  },
  {
   "cell_type": "code",
   "execution_count": null,
   "id": "waiting-copying",
   "metadata": {},
   "outputs": [],
   "source": []
  },
  {
   "cell_type": "code",
   "execution_count": null,
   "id": "closed-castle",
   "metadata": {},
   "outputs": [],
   "source": []
  }
 ],
 "metadata": {
  "kernelspec": {
   "display_name": "Python 3",
   "language": "python",
   "name": "python3"
  },
  "language_info": {
   "codemirror_mode": {
    "name": "ipython",
    "version": 3
   },
   "file_extension": ".py",
   "mimetype": "text/x-python",
   "name": "python",
   "nbconvert_exporter": "python",
   "pygments_lexer": "ipython3",
   "version": "3.8.1"
  }
 },
 "nbformat": 4,
 "nbformat_minor": 5
}
